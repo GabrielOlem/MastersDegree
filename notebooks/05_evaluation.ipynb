{
 "cells": [
  {
   "cell_type": "code",
   "execution_count": 1,
   "id": "6297f626",
   "metadata": {},
   "outputs": [
    {
     "name": "stderr",
     "output_type": "stream",
     "text": [
      "c:\\Users\\gabri\\Desktop\\Misc\\MastersDegree\\.venv\\Lib\\site-packages\\tqdm\\auto.py:21: TqdmWarning: IProgress not found. Please update jupyter and ipywidgets. See https://ipywidgets.readthedocs.io/en/stable/user_install.html\n",
      "  from .autonotebook import tqdm as notebook_tqdm\n"
     ]
    }
   ],
   "source": [
    "import json\n",
    "\n",
    "from peft import PeftConfig, PeftModel\n",
    "from tqdm import tqdm\n",
    "from transformers import AutoModelForCausalLM, AutoTokenizer, pipeline"
   ]
  },
  {
   "cell_type": "code",
   "execution_count": 2,
   "id": "f7bf08c2",
   "metadata": {},
   "outputs": [],
   "source": [
    "MAX_TOKENS = 512"
   ]
  },
  {
   "cell_type": "code",
   "execution_count": 3,
   "id": "69e86b46",
   "metadata": {},
   "outputs": [],
   "source": [
    "def load_data(path):\n",
    "    with open(path, \"r\", encoding=\"utf-8\") as f:\n",
    "        return json.load(f)"
   ]
  },
  {
   "cell_type": "code",
   "execution_count": null,
   "id": "8944bb12",
   "metadata": {},
   "outputs": [],
   "source": [
    "def load_model(model_path):\n",
    "    try:\n",
    "        config = PeftConfig.from_pretrained(model_path)\n",
    "        base_model = AutoModelForCausalLM.from_pretrained(config.base_model_name_or_path, device_map=\"auto\")\n",
    "        model = PeftModel.from_pretrained(base_model, model_path)\n",
    "    except Exception as e:\n",
    "        print(f\"Error loading PEFT model: {e}\")\n",
    "        model = AutoModelForCausalLM.from_pretrained(model_path, device_map=\"auto\")\n",
    "\n",
    "    tokenizer = AutoTokenizer.from_pretrained(model_path)\n",
    "    tokenizer.pad_token = tokenizer.eos_token\n",
    "    return model, tokenizer"
   ]
  },
  {
   "cell_type": "code",
   "execution_count": 5,
   "id": "6b99e443",
   "metadata": {},
   "outputs": [],
   "source": [
    "def format_prompt(question, chunk):\n",
    "    return f\"Context: {chunk}\\nQuestion: {question}\\nGenerate Python code to solve:\"\n"
   ]
  },
  {
   "cell_type": "code",
   "execution_count": 6,
   "id": "1b9b5d0d",
   "metadata": {},
   "outputs": [],
   "source": [
    "def generate_code(pipe, question, chunk):\n",
    "    prompt = format_prompt(question, chunk)\n",
    "    output = pipe(prompt, max_new_tokens=200, do_sample=False, return_full_text=False)\n",
    "    return output[0][\"generated_text\"].strip()"
   ]
  },
  {
   "cell_type": "code",
   "execution_count": 8,
   "id": "d2f9044a",
   "metadata": {},
   "outputs": [],
   "source": [
    "def main(model_path, dataset_path, output_path):\n",
    "    data = load_data(dataset_path)\n",
    "    model, tokenizer = load_model(model_path)\n",
    "    pipe = pipeline(\"text-generation\", model=model, tokenizer=tokenizer, device_map=\"auto\")\n",
    "\n",
    "    results = []\n",
    "    for item in tqdm(data, desc=\"Generating code\"):\n",
    "        question = item[\"question\"]\n",
    "        chunk = item[\"golden_chunk\"]\n",
    "        target = item.get(\"golden_program_generated\", \"\")\n",
    "        answer = item.get(\"answer\", \"\")\n",
    "\n",
    "        generated = generate_code(pipe, question, chunk)\n",
    "\n",
    "        results.append({\n",
    "            \"question_id\": item[\"question_id\"],\n",
    "            \"question\": question,\n",
    "            \"golden_chunk\": chunk,\n",
    "            \"answer\": answer,\n",
    "            \"golden_program_generated\": target,\n",
    "            \"generated_program\": generated\n",
    "        })\n",
    "\n",
    "    with open(output_path, \"w\", encoding=\"utf-8\") as f:\n",
    "        json.dump(results, f, ensure_ascii=False, indent=4)\n",
    "    print(f\"Saved {len(results)} generations to {output_path}\")"
   ]
  },
  {
   "cell_type": "code",
   "execution_count": null,
   "id": "4ad2511f",
   "metadata": {},
   "outputs": [],
   "source": [
    "# if __name__ == \"__main__\":\n",
    "#     parser = argparse.ArgumentParser()\n",
    "#     parser.add_argument(\"--model_path\", type=str, required=True, help=\"Path to model (base or LoRA fine-tuned)\")\n",
    "#     parser.add_argument(\"--dataset_path\", type=str, required=True, help=\"Path to golden dataset\")\n",
    "#     parser.add_argument(\"--output_path\", type=str, required=True, help=\"Path to save generations\")\n",
    "#     args = parser.parse_args()\n",
    "#     main(args.model_path, args.dataset_path, args.output_path)"
   ]
  },
  {
   "cell_type": "code",
   "execution_count": 12,
   "id": "178b1748",
   "metadata": {},
   "outputs": [
    {
     "name": "stderr",
     "output_type": "stream",
     "text": [
      "The installed version of bitsandbytes was compiled without GPU support. 8-bit optimizers and GPU quantization are unavailable.\n",
      "Device set to use cpu\n",
      "Generating code:   0%|          | 0/1 [00:00<?, ?it/s]Token indices sequence length is longer than the specified maximum sequence length for this model (1299 > 1024). Running this sequence through the model will result in indexing errors\n",
      "The following generation flags are not valid and may be ignored: ['temperature']. Set `TRANSFORMERS_VERBOSITY=info` for more details.\n",
      "Generating code: 100%|██████████| 1/1 [00:52<00:00, 52.14s/it]"
     ]
    },
    {
     "name": "stdout",
     "output_type": "stream",
     "text": [
      "Saved 1 generations to ../results/falcon-rw-1b-finetuned-dev-golden.json\n"
     ]
    },
    {
     "name": "stderr",
     "output_type": "stream",
     "text": [
      "\n"
     ]
    }
   ],
   "source": [
    "main(\"../models/falcon-rw-1b-finetuned\", \"../data/dev_golden.json\", \"../results/falcon-rw-1b-finetuned-dev-golden.json\")"
   ]
  }
 ],
 "metadata": {
  "kernelspec": {
   "display_name": ".venv",
   "language": "python",
   "name": "python3"
  },
  "language_info": {
   "codemirror_mode": {
    "name": "ipython",
    "version": 3
   },
   "file_extension": ".py",
   "mimetype": "text/x-python",
   "name": "python",
   "nbconvert_exporter": "python",
   "pygments_lexer": "ipython3",
   "version": "3.12.9"
  }
 },
 "nbformat": 4,
 "nbformat_minor": 5
}
