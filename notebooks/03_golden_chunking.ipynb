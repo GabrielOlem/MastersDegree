{
 "cells": [
  {
   "cell_type": "code",
   "execution_count": 14,
   "id": "69ce4d60",
   "metadata": {},
   "outputs": [
    {
     "name": "stderr",
     "output_type": "stream",
     "text": [
      "[nltk_data] Downloading package punkt to\n",
      "[nltk_data]     C:\\Users\\gabri\\AppData\\Roaming\\nltk_data...\n",
      "[nltk_data]   Package punkt is already up-to-date!\n",
      "[nltk_data] Downloading package punkt_tab to\n",
      "[nltk_data]     C:\\Users\\gabri\\AppData\\Roaming\\nltk_data...\n",
      "[nltk_data]   Unzipping tokenizers\\punkt_tab.zip.\n"
     ]
    },
    {
     "data": {
      "text/plain": [
       "True"
      ]
     },
     "execution_count": 14,
     "metadata": {},
     "output_type": "execute_result"
    }
   ],
   "source": [
    "import nltk\n",
    "nltk.download(\"punkt\")\n",
    "nltk.download(\"punkt_tab\")"
   ]
  },
  {
   "cell_type": "code",
   "execution_count": 28,
   "id": "d758fa86",
   "metadata": {},
   "outputs": [
    {
     "name": "stderr",
     "output_type": "stream",
     "text": [
      "c:\\Users\\gabri\\Desktop\\Misc\\MastersDegree\\.venv\\Lib\\site-packages\\tqdm\\auto.py:21: TqdmWarning: IProgress not found. Please update jupyter and ipywidgets. See https://ipywidgets.readthedocs.io/en/stable/user_install.html\n",
      "  from .autonotebook import tqdm as notebook_tqdm\n"
     ]
    }
   ],
   "source": [
    "import json\n",
    "from collections import defaultdict\n",
    "from sentence_transformers import SentenceTransformer, util\n",
    "from tqdm import tqdm"
   ]
  },
  {
   "cell_type": "code",
   "execution_count": 29,
   "id": "0f8a26d7",
   "metadata": {},
   "outputs": [],
   "source": [
    "INPUT_PATH = \"../data/train_chunks.json\"\n",
    "OUTPUT_PATH = \"../data/train_golden.json\"\n",
    "EMBEDDING_MODEL = \"sentence-transformers/all-mpnet-base-v2\""
   ]
  },
  {
   "cell_type": "code",
   "execution_count": 4,
   "id": "8bc81477",
   "metadata": {},
   "outputs": [],
   "source": [
    "with open(INPUT_PATH, \"r\", encoding=\"utf-8\") as f:\n",
    "    chunk_data = json.load(f)"
   ]
  },
  {
   "cell_type": "code",
   "execution_count": 31,
   "id": "62c5c4d0",
   "metadata": {},
   "outputs": [],
   "source": [
    "chunks_by_question = defaultdict(list)\n",
    "for chunk in chunk_data:\n",
    "    chunks_by_question[chunk[\"question_id\"]].append(chunk)\n",
    "\n",
    "model = SentenceTransformer(EMBEDDING_MODEL)"
   ]
  },
  {
   "cell_type": "code",
   "execution_count": 7,
   "id": "4f00bf72",
   "metadata": {},
   "outputs": [],
   "source": [
    "golden_dataset = []"
   ]
  },
  {
   "cell_type": "code",
   "execution_count": 32,
   "id": "7826e50e",
   "metadata": {},
   "outputs": [
    {
     "name": "stderr",
     "output_type": "stream",
     "text": [
      "Processing questions:   0%|          | 0/1 [00:49<?, ?it/s]\n"
     ]
    }
   ],
   "source": [
    "for qid, chunks in tqdm(chunks_by_question.items(), desc=\"Processing questions\"):\n",
    "    question = chunks[0][\"question\"]\n",
    "    answer = chunks[0][\"answer\"]\n",
    "    golden_program = chunks[0].get(\"golden_program\")\n",
    "\n",
    "    q_embedding = model.encode(question, convert_to_tensor=True)\n",
    "\n",
    "    chunk_tests = [chunk[\"chunk_text\"] for chunk in chunks]\n",
    "    chunk_embeddings = model.encode(chunk_tests, convert_to_tensor=True)\n",
    "    \n",
    "    similarities = util.cos_sim(q_embedding, chunk_embeddings)[0]\n",
    "    best_idx = similarities.argmax().item()\n",
    "    best_chunk = chunks[best_idx]\n",
    "\n",
    "    golden_dataset.append({\n",
    "        \"question_id\": qid,\n",
    "        \"question\": question,\n",
    "        \"answer\": answer,\n",
    "        \"golden_program\": golden_program,\n",
    "        \"golden_chunk\": best_chunk[\"chunk_text\"],\n",
    "        \"score\": similarities[best_idx].item()\n",
    "    })\n",
    "    break"
   ]
  },
  {
   "cell_type": "code",
   "execution_count": 26,
   "id": "bb4f520c",
   "metadata": {},
   "outputs": [
    {
     "name": "stdout",
     "output_type": "stream",
     "text": [
      "Saved 1 golden chunks to ../data/train_golden.json\n"
     ]
    }
   ],
   "source": [
    "with open(OUTPUT_PATH, \"w\", encoding=\"utf-8\") as f:\n",
    "    json.dump(golden_dataset, f, ensure_ascii=False, indent=4)\n",
    "    print(f\"Saved {len(golden_dataset)} golden chunks to {OUTPUT_PATH}\")"
   ]
  }
 ],
 "metadata": {
  "kernelspec": {
   "display_name": ".venv",
   "language": "python",
   "name": "python3"
  },
  "language_info": {
   "codemirror_mode": {
    "name": "ipython",
    "version": 3
   },
   "file_extension": ".py",
   "mimetype": "text/x-python",
   "name": "python",
   "nbconvert_exporter": "python",
   "pygments_lexer": "ipython3",
   "version": "3.12.9"
  }
 },
 "nbformat": 4,
 "nbformat_minor": 5
}
