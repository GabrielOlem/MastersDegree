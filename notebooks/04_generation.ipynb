{
 "cells": [
  {
   "cell_type": "code",
   "execution_count": 48,
   "id": "e2029568",
   "metadata": {},
   "outputs": [],
   "source": [
    "import json \n",
    "from tqdm import tqdm\n",
    "import time\n",
    "import openai\n",
    "from dotenv import load_dotenv\n",
    "import os"
   ]
  },
  {
   "cell_type": "code",
   "execution_count": 49,
   "id": "bf8663e1",
   "metadata": {},
   "outputs": [
    {
     "data": {
      "text/plain": [
       "True"
      ]
     },
     "execution_count": 49,
     "metadata": {},
     "output_type": "execute_result"
    }
   ],
   "source": [
    "load_dotenv(override=True)"
   ]
  },
  {
   "cell_type": "code",
   "execution_count": 50,
   "id": "91a8971c",
   "metadata": {},
   "outputs": [],
   "source": [
    "INPUT_PATH = \"../data/train_golden.json\"\n",
    "OUTPUT_PATH = \"../data/train_rationale.json\"\n",
    "MODEL = \"gpt-4o\"\n",
    "API_KEY = os.getenv(\"OPENAI_API_KEY\")"
   ]
  },
  {
   "cell_type": "code",
   "execution_count": 51,
   "id": "a75e5d01",
   "metadata": {},
   "outputs": [],
   "source": [
    "openai.api_key = API_KEY"
   ]
  },
  {
   "cell_type": "code",
   "execution_count": 52,
   "id": "ba1a74db",
   "metadata": {},
   "outputs": [],
   "source": [
    "def build_prompt(question, context):\n",
    "    return f\"\"\"\n",
    "    You are a financial reasoning assistant.\n",
    "\n",
    "    Given the following financial document and a question, write a Python-style program that calculates the answer using variables and arithmetic operations.\n",
    "\n",
    "    Only use the information provided in the document.\n",
    "\n",
    "    End your program with a line that assigns the final result to the variable `answer`.\n",
    "    \n",
    "    ### Document:\n",
    "    Context: {context}\n",
    "\n",
    "    ### Question:\n",
    "    Question: {question}\n",
    "\n",
    "    ### Python-style Program:\n",
    "    \"\"\""
   ]
  },
  {
   "cell_type": "code",
   "execution_count": 53,
   "id": "3d7cc9d8",
   "metadata": {},
   "outputs": [],
   "source": [
    "def get_response_from_openai(prompt, model=MODEL, temperature=0.3):\n",
    "    try:\n",
    "        response = openai.chat.completions.create(\n",
    "            model=model,\n",
    "            messages=[{\"role\": \"user\", \"content\": prompt}],\n",
    "            temperature=temperature,\n",
    "            # api_key=api_key\n",
    "        )\n",
    "        return response.choices[0].message.content.strip()\n",
    "    except Exception as e:\n",
    "        print(f\"Error: {e}\")\n",
    "        return \"\""
   ]
  },
  {
   "cell_type": "code",
   "execution_count": 54,
   "id": "d0258031",
   "metadata": {},
   "outputs": [],
   "source": [
    "with open(INPUT_PATH, 'r') as f:\n",
    "    data = json.load(f)"
   ]
  },
  {
   "cell_type": "code",
   "execution_count": 60,
   "id": "bb81bcd5",
   "metadata": {},
   "outputs": [],
   "source": [
    "output_data = []"
   ]
  },
  {
   "cell_type": "code",
   "execution_count": 61,
   "id": "bda4b0bf",
   "metadata": {},
   "outputs": [
    {
     "name": "stderr",
     "output_type": "stream",
     "text": [
      "Processing items: 100%|██████████| 1/1 [00:03<00:00,  3.21s/it]\n"
     ]
    }
   ],
   "source": [
    "for item in tqdm(data, desc=\"Processing items\"):\n",
    "    question = item['question']\n",
    "    context = item['golden_chunk']\n",
    "    answer = item['answer']\n",
    "    golden_program = item.get('golden_program', '')\n",
    "\n",
    "    prompt = build_prompt(question, context)\n",
    "    golden_program_gen = get_response_from_openai(prompt)\n",
    "\n",
    "    output_data.append({\n",
    "        \"question_id\": item['question_id'],\n",
    "        \"question\": question,\n",
    "        \"golden_chunk\": context,\n",
    "        \"answer\": answer,\n",
    "        \"golden_program_generated\": golden_program_gen,\n",
    "        \"golden_program\": golden_program\n",
    "    })\n",
    "\n",
    "    time.sleep(1.5)  # Rate limiting"
   ]
  },
  {
   "cell_type": "code",
   "execution_count": 62,
   "id": "30e737d2",
   "metadata": {},
   "outputs": [
    {
     "name": "stdout",
     "output_type": "stream",
     "text": [
      "Rationale generation completed. Output saved to ../data/train_rationale.json.\n"
     ]
    }
   ],
   "source": [
    "with open(OUTPUT_PATH, 'w') as f:\n",
    "    json.dump(output_data, f, indent=4)\n",
    "print(f\"Rationale generation completed. Output saved to {OUTPUT_PATH}.\")"
   ]
  }
 ],
 "metadata": {
  "kernelspec": {
   "display_name": ".venv",
   "language": "python",
   "name": "python3"
  },
  "language_info": {
   "codemirror_mode": {
    "name": "ipython",
    "version": 3
   },
   "file_extension": ".py",
   "mimetype": "text/x-python",
   "name": "python",
   "nbconvert_exporter": "python",
   "pygments_lexer": "ipython3",
   "version": "3.12.9"
  }
 },
 "nbformat": 4,
 "nbformat_minor": 5
}
