{
 "cells": [
  {
   "cell_type": "code",
   "execution_count": 1,
   "id": "97005621",
   "metadata": {},
   "outputs": [],
   "source": [
    "import json\n",
    "\n",
    "from llama_index.core import Document\n",
    "from llama_index.core.node_parser import SentenceSplitter\n",
    "from tqdm import tqdm"
   ]
  },
  {
   "cell_type": "code",
   "execution_count": 2,
   "id": "d1d217b4",
   "metadata": {},
   "outputs": [],
   "source": [
    "INPUT_PATH = \"../data/train.json\"\n",
    "OUTPUT_PATH = \"../data/train_chunks.json\"\n",
    "CHUNK_SIZE = 1024\n",
    "CHUNK_OVERLAP = 200"
   ]
  },
  {
   "cell_type": "code",
   "execution_count": 3,
   "id": "3446e6db",
   "metadata": {},
   "outputs": [],
   "source": [
    "with open(INPUT_PATH, \"r\", encoding=\"utf-8\") as f:\n",
    "    raw_data = json.load(f)"
   ]
  },
  {
   "cell_type": "code",
   "execution_count": 4,
   "id": "3859b13d",
   "metadata": {},
   "outputs": [],
   "source": [
    "parser = SentenceSplitter(chunk_size=CHUNK_SIZE, chunk_overlap=CHUNK_OVERLAP)"
   ]
  },
  {
   "cell_type": "code",
   "execution_count": 5,
   "id": "3b280648",
   "metadata": {},
   "outputs": [],
   "source": [
    "all_chunks = []"
   ]
  },
  {
   "cell_type": "code",
   "execution_count": 20,
   "id": "75a6e2a2",
   "metadata": {},
   "outputs": [
    {
     "name": "stderr",
     "output_type": "stream",
     "text": [
      "Processing items:   0%|          | 0/5735 [00:00<?, ?it/s]"
     ]
    },
    {
     "name": "stdout",
     "output_type": "stream",
     "text": [
      "130\n",
      "{'question_id': 0, 'chunk_id': '0_chunk_129', 'chunk_text': \"1-7819)\\tas\\tfiled\\twith\\tthe\\tCommission\\ton\\tNovember\\t30,\\t2007\\tand\\tincorporated\\therein\\tby reference. †12.1 Computation\\tof\\tConsolidated\\tRatios\\tof\\tEarnings\\tto\\tFixed\\tCharges. †21 Subsidiaries\\tof\\tthe\\tCompany.\\n\\n†23 Consent\\tof\\tErnst\\t&\\tYoung\\tLLP,\\tIndependent\\tRegistered\\tPublic\\tAccounting\\tFirm.\\n\\n\\t101.\\tDEF XBRL\\tDefinition\\tLinkbase\\tDocument\\n\\n† Filed\\therewith.\\n\\n* Management\\tcontracts\\tand\\tcompensatory\\tplan\\tor\\tarrangements\\trequired\\tto\\tbe\\tfiled\\tas\\tan\\tExhibit\\tpursuant\\tto\\tItem\\t15(b)\\tof\\tForm\\t10-K.\\n\\nAttached\\tas\\tExhibit\\t101\\tto\\tthis\\treport\\tare\\tthe\\tfollowing\\tformatted\\tin\\tXBRL\\t(Extensible\\tBusiness\\tReporting\\tLanguage):\\t(i)\\tConsolidated\\tStatements\\tof\\tIncome\\tfor\\tthe\\tyears\\tended\\tOctober\\t31, 2009,\\tNovember\\t1,\\t2008,\\tand\\tNovember\\t3,\\t2007,\\t(ii)\\tConsolidated\\tBalance\\tSheets\\tat\\tOctober\\t31,\\t2009\\tand\\tNovember\\t1,\\t2008,\\t(iii)\\tConsolidated\\tStatements\\tof\\tShareholders'\\tEquity\\tfor\\tthe\\tyears\\tended October\\t31,\\t2009,\\tNovember\\t1,\\t2008,\\tand\\tNovember\\t3,\\t2007,\\t(iv)\\tConsolidated\\tStatements\\tof\\tComprehensive\\tIncome\\tfor\\tthe\\tyears\\tended\\tOctober\\t31,\\t2009,\\tNovember\\t1,\\t2008,\\tand\\tNovember\\t3,\\t2007, (v)\\tConsolidated\\tStatements\\tof\\tCash\\tFlows\\tfor\\tthe\\tyears\\tended\\tOctober\\t31,\\t2009,\\tNovember\\t1,\\t2008,\\tand\\tNovember\\t3,\\t2007\\tand\\t(vi)\\tNotes\\tto\\tConsolidated\\tFinancial\\tStatements.\\n\\nIn\\taccordance\\twith\\tRule\\t406T\\tof\\tRegulation\\tS-T,\\tthe\\tXBRL-related\\tinformation\\tin\\tExhibit\\t101\\tto\\tthis\\tAnnual\\tReport\\ton\\tForm\\t10-K\\tis\\tdeemed\\tnot\\tfiled\\tor\\tpart\\tof\\ta\\tregistration\\tstatement\\tor prospectus\\tfor\\tpurposes\\tof\\tsections\\t11\\tor\\t12\\tof\\tthe\\tSecurities\\tAct,\\tis\\tdeemed\\tnot\\tfiled\\tfor\\tpurposes\\tof\\tsection\\t18\\tof\\tthe\\tExchange\\tAct,\\tand\\totherwise\\tis\\tnot\\tsubject\\tto\\tliability\\tunder\\tthese\\tsections.\", 'question': 'what is the the interest expense in 2009?', 'answer': '380', 'golden_program': 'interest_expense = 100 / 100\\nannual_interest_expense = 3.8 / interest_expense\\nanswer = annual_interest_expense * 100'}\n"
     ]
    },
    {
     "name": "stderr",
     "output_type": "stream",
     "text": [
      "\n"
     ]
    }
   ],
   "source": [
    "for doc_id, item in enumerate(tqdm(raw_data, desc=\"Processing items\")):\n",
    "    paragraph_text = item['Context']\n",
    "    doc = Document(\n",
    "        text=paragraph_text,\n",
    "        metadata={'question_id': doc_id}\n",
    "    )\n",
    "    nodes = parser.get_nodes_from_documents([doc])\n",
    "\n",
    "    print(len(nodes))\n",
    "    for idx, node in enumerate(nodes):\n",
    "        chunk = {\n",
    "            'question_id': doc_id,\n",
    "            'chunk_id': f\"{doc_id}_chunk_{idx}\",\n",
    "            'chunk_text': node.get_content(),\n",
    "            'question': item['Question'],\n",
    "            'answer': item['Answer'],\n",
    "            'golden_program': item['Program']\n",
    "        }\n",
    "        all_chunks.append(chunk)\n",
    "    print(all_chunks[-1])\n",
    "    break"
   ]
  },
  {
   "cell_type": "code",
   "execution_count": 21,
   "id": "b4b4c437",
   "metadata": {},
   "outputs": [
    {
     "name": "stdout",
     "output_type": "stream",
     "text": [
      "Saved 260 chunks to ../data/train_chunks.json\n"
     ]
    }
   ],
   "source": [
    "with open(OUTPUT_PATH, \"w\", encoding=\"utf-8\") as f:\n",
    "    json.dump(all_chunks, f, ensure_ascii=False, indent=4)\n",
    "    print(f\"Saved {len(all_chunks)} chunks to {OUTPUT_PATH}\")"
   ]
  }
 ],
 "metadata": {
  "kernelspec": {
   "display_name": ".venv",
   "language": "python",
   "name": "python3"
  },
  "language_info": {
   "codemirror_mode": {
    "name": "ipython",
    "version": 3
   },
   "file_extension": ".py",
   "mimetype": "text/x-python",
   "name": "python",
   "nbconvert_exporter": "python",
   "pygments_lexer": "ipython3",
   "version": "3.12.9"
  }
 },
 "nbformat": 4,
 "nbformat_minor": 5
}
